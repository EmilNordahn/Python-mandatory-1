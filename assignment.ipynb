{
  "metadata": {
    "kernelspec": {
      "name": "python",
      "display_name": "Python (Pyodide)",
      "language": "python"
    },
    "language_info": {
      "codemirror_mode": {
        "name": "python",
        "version": 3
      },
      "file_extension": ".py",
      "mimetype": "text/x-python",
      "name": "python",
      "nbconvert_exporter": "python",
      "pygments_lexer": "ipython3",
      "version": "3.8"
    }
  },
  "nbformat_minor": 4,
  "nbformat": 4,
  "cells": [
    {
      "cell_type": "code",
      "source": "# Mandatory assignment 1\n# (1)\n\ndirectors = {\"Benny\", \"Hans\", \"Tine\", \"Mille\", \"Torben\", \"Troels\", \"Søren\"}\nmanagement = {\"Tine\", \"Trunte\", \"Rane\"}\nemployees = {\"Niels\", \"Anna\", \"Tine\", \"Ole\", \"Trunte\", \"Bent\", \"Rane\", \"Allan\", \"Stine\", \"Claus\", \"James\", \"Lars\"}\n\n\n\nprint(\"(1)\\nThese directors are not employees: \", directors.difference(employees), \"\\n\")\n\nprint(\"These directors are also employees: \", directors.intersection(employees), \"\\n\")\n\nprint(\"These managers are on the board\", management.intersection(directors), \" \\nThat is: \", len(management.intersection(directors)), \"\\n\")\n\nprint(\"These managers are also employees: \", management.intersection(employees), \"\\n\")\n\nprint(\"These employees are employees, managers and on the board of directors: \", management.intersection(employees.intersection(directors)), \"\\n\")\n\nprint(\"These employees are neither managers nor on the board: \", employees.difference(management).difference(directors), \"\\n\")\n\n# (2)\n\ndatastruct = {'a':'Alpha','b':'Beta','g':'Gamma'}\n\ntupleList = []\n\nfor key, value in datastruct.items():\n    tupleList.append((key, value))\n\nprint(\"\\n\\n(2)\\n\", tupleList)\n\n# (3)\n\nsetA = {'a', 'e', 'i', 'o', 'u', 'y'}\nsetB = {'a', 'e', 'i', 'o', 'u', 'y', 'æ', 'ø', 'å'}\n\nprint(\"\\n\\n(3)\\nUnion: \", setA.union(setB))\nprint(\"\\nUnion: \", setA|setB)\nprint(\"\\nSymmetric Difference: \", setA.symmetric_difference(setB))\nprint(\"\\nSymmetric Difference: \", setA^setB)\nprint(\"\\nDifference(left): \", setA.difference(setB))\nprint(\"\\nDifference(right): \", setB.difference(setA))\nprint(\"\\nDifference(left): \", setA-setB)\nprint(\"\\nDifference(right): \", setB-setA)\nprint(\"\\nDisjoint: \", setA.intersection(setB))\nprint(\"\\nDisjoint: \", setA&setB)\n\n# (4)\n\ngivenDate = '8-MAR-85'\n\nmonthDict = {'JAN': 1, 'FEB': 2, 'MAR': 3, 'APR': 4, 'MAY': 5, 'JUN': 6, 'JUL': 7, 'AUG': 8, 'SEP': 9, 'OCT': 10, 'NOV': 11, 'DEC': 12}\n\ndef translateDate(date):\n    translatedDate = date.split(\"-\")\n    translatedDate[1] = monthDict[translatedDate[1].upper()]\n    translatedDate[0] = int(translatedDate[0])\n    translatedDate[2] = int(translatedDate[2])\n\n\n    return tuple(translatedDate)\n\nprint(\"\\n\\n(4)\\n\", translateDate(givenDate))\n\n# (5)\n\nfriendsInvited = {'Simon', 'Rob', 'Anna', 'Earl', 'Julie', 'Karla'}\nfriendsRSVP = {'Anna', 'Rob', 'Florence', 'Julie'}\n\nprint(\"\\n\\n(5)\\nFriends who haven't RSVP'd: \", friendsInvited.difference(friendsRSVP),\n      \"\\nFriends who RSVP'd but weren't invited: \", friendsRSVP.difference(friendsInvited),\n      \"\\nFriends who are invited but haven't RSVP'd\", friendsInvited.intersection(friendsRSVP))\n\n# (6) \n\nprint(\"\\n\\n(6)\\n\")\n\nstudents = {'Simon': 12, 'Rob': 55, 'Anna': 85, 'Earl': 63, 'Julie': 74, 'Karla': 87}\n\n\ndef gradeStudents(students):\n\n    studentOutput = []\n    while True:\n\n        print(students.keys(), \"\\nWhich student's grade should be updated? (leave empty to end)\")\n\n        studentInput = input()\n    \n        if studentInput is \"\":\n            for s, g in students.items():\n                if g >= 85: \n                    studentOutput.append(s)\n            break\n        elif studentInput not in students.keys():\n            print(studentInput, \"is not a valid student name\")\n            continue \n        else:\n            print(\"What is the grade of \", studentInput, \"?\")\n            students[studentInput] = int(input())\n    print(\"Students with a grade larger than or equal to 85: \", studentOutput)\n    \ngradeStudents(students)",
      "metadata": {
        "trusted": true
      },
      "outputs": [],
      "execution_count": null
    }
  ]
}